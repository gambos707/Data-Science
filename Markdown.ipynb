{
 "cells": [
  {
   "cell_type": "markdown",
   "metadata": {},
   "source": [
    "# My Jupyter Notebook on IBM Watson Studio"
   ]
  },
  {
   "cell_type": "markdown",
   "metadata": {},
   "source": [
    "**Mohanad Mohamed**\n",
    "\n",
    "Data Engineer"
   ]
  },
  {
   "cell_type": "markdown",
   "metadata": {},
   "source": [
    "_I am interested in data science because as I have long experince in software engineering and expert level dealing with different type of databases and tools for data integration, data warehouse, and data modeling as well as data analysis, so that I decided that its the time to go deep and descover other skills, techniques, and tools that will help me become a data scientest._"
   ]
  },
  {
   "cell_type": "markdown",
   "metadata": {},
   "source": [
    "### The below cell show the prority of arithmetic operations\n",
    "\n",
    "First, the operations to be performed are those in *parentheses*.\n",
    "\n",
    "Then, the *multiplication* and *division*.\n",
    "\n",
    "Finaly, the *addition* and *substraction*."
   ]
  },
  {
   "cell_type": "code",
   "execution_count": 5,
   "metadata": {},
   "outputs": [
    {
     "name": "stdout",
     "output_type": "stream",
     "text": [
      "60.0\n"
     ]
    }
   ],
   "source": [
    "total = (10 * ((7 - 3) + 4 / 2))\n",
    "print(total)"
   ]
  },
  {
   "cell_type": "markdown",
   "metadata": {},
   "source": [
    "***  \n",
    "<br>\n",
    "\n",
    "- IBM Data Science Professional Certificate\n",
    "    - What is Data Science?            **(Completed)**\n",
    "    - Tools for Data Science           **(Inprogress)**\n",
    "    - Data Science Methodology         **(Comming Next)**\n",
    "    \n",
    "<div class=\"alert alert-block alert-info\">\n",
    "<b>Remember:</b> To get <b>IBM Data Science Professional Certificate <b> you need to complete all the courses specified in this learning path.\n",
    "<br><br> Above, listed only three courses out of ten.\n",
    "</div><br><br>\n",
    "    \n",
    "__[visit IBM website](http://www.ibm.com)__  \n",
    "\n",
    "__[visit coursera website](https://www.coursera.org/)__ \n",
    "    \n",
    "<br>\n",
    "\n",
    "***"
   ]
  }
 ],
 "metadata": {
  "kernelspec": {
   "display_name": "Python 3.9",
   "language": "python",
   "name": "python3"
  },
  "language_info": {
   "codemirror_mode": {
    "name": "ipython",
    "version": 3
   },
   "file_extension": ".py",
   "mimetype": "text/x-python",
   "name": "python",
   "nbconvert_exporter": "python",
   "pygments_lexer": "ipython3",
   "version": "3.9.12"
  }
 },
 "nbformat": 4,
 "nbformat_minor": 1
}
